{
 "cells": [
  {
   "cell_type": "code",
   "execution_count": 36,
   "metadata": {},
   "outputs": [],
   "source": [
    "import numpy as np\n",
    "import pandas as pd"
   ]
  },
  {
   "cell_type": "code",
   "execution_count": 37,
   "metadata": {},
   "outputs": [],
   "source": [
    "pd.set_option('display.max_colwidth', 255)\n",
    "pd.set_option('display.max_rows', 100)\n",
    "pd.set_option('display.min_rows', 100)"
   ]
  },
  {
   "cell_type": "code",
   "execution_count": 38,
   "metadata": {},
   "outputs": [],
   "source": [
    "LeaderBoard = pd.read_csv('LeaderBoard_DataV2.csv')\n",
    "Season_Stats = pd.read_csv('SeasonStats.csv')"
   ]
  },
  {
   "cell_type": "code",
   "execution_count": 39,
   "metadata": {},
   "outputs": [
    {
     "name": "stdout",
     "output_type": "stream",
     "text": [
      "[2020, 2019, 2018, 2017, 2016, 2015, 2014, 2013, 2012, 2011, 2010, 2009, 2008, 2007]\n",
      "\n",
      "['gent-wevelgem' 'strade-bianche' 'milano-sanremo' 'ronde-van-vlaanderen'\n",
      " 'paris-roubaix' 'omloop-het-nieuwsblad' 'e3-harelbeke']\n"
     ]
    }
   ],
   "source": [
    "seasons = [2020, 2019, 2018, 2017, 2016, 2015, 2014, 2013, 2012, 2011, 2010, 2009, 2008, 2007]\n",
    "racenames = LeaderBoard['Race_Name'].unique()\n",
    "print(seasons)\n",
    "print()\n",
    "print(racenames)"
   ]
  },
  {
   "cell_type": "markdown",
   "metadata": {},
   "source": [
    "# Race Results"
   ]
  },
  {
   "cell_type": "code",
   "execution_count": 40,
   "metadata": {},
   "outputs": [],
   "source": [
    "def get_race(race_name, season):\n",
    "    \n",
    "    filt = (LeaderBoard['Race_Name'] == race_name) & (LeaderBoard['Season'].astype(int) == season)\n",
    "    full = LeaderBoard[filt]\n",
    "    df = pd.concat([full['FT'], full['Name']], axis=1)\n",
    "    \n",
    "    return df"
   ]
  },
  {
   "cell_type": "code",
   "execution_count": 41,
   "metadata": {},
   "outputs": [],
   "source": [
    "def get_season(year):\n",
    "    \n",
    "    flanders = get_race('ronde-van-vlaanderen', year)\n",
    "    gent = get_race('gent-wevelgem', year)\n",
    "    strade = get_race('strade-bianche', year)\n",
    "    milano = get_race('milano-sanremo', year)\n",
    "    omloop = get_race('omloop-het-nieuwsblad', year)\n",
    "    e3 = get_race('e3-harelbeke', year)\n",
    "    \n",
    "\n",
    "    gent = pd.merge(flanders, gent, on= 'Name', how='left', suffixes=('flanders', 'gent'))\n",
    "    strade = pd.merge(flanders, strade, on= 'Name', how='left', suffixes=('flanders', 'strade'))\n",
    "    milano = pd.merge(flanders, milano, on= 'Name', how='left', suffixes=('flanders', 'milano'))\n",
    "    omloop = pd.merge(flanders, omloop, on= 'Name', how='left', suffixes=('flanders', 'omloop'))\n",
    "    e3 = pd.merge(flanders, e3, on= 'Name', how='left', suffixes=('flanders', 'e3'))\n",
    "    \n",
    "    gent['strade'] = strade['FTstrade']\n",
    "    gent['milano'] = milano['FTmilano']\n",
    "    gent['omloop'] = omloop['FTomloop']\n",
    "    gent['e3'] = e3['FTe3']\n",
    "    \n",
    "    return gent\n",
    "\n"
   ]
  },
  {
   "cell_type": "code",
   "execution_count": 42,
   "metadata": {},
   "outputs": [],
   "source": [
    "complete_df = get_season(2021)\n",
    "\n",
    "for i in seasons:\n",
    "    season_df = get_season(i)\n",
    "    complete_df = complete_df.append(season_df, ignore_index=True)"
   ]
  },
  {
   "cell_type": "markdown",
   "metadata": {},
   "source": [
    "# Season  "
   ]
  },
  {
   "cell_type": "code",
   "execution_count": 43,
   "metadata": {},
   "outputs": [],
   "source": [
    "filt = LeaderBoard['Race_Name'] == 'ronde-van-vlaanderen'\n",
    "Flander_LB = LeaderBoard[filt]\n",
    "complete_df['Season'] = list(Flander_LB['Season'])"
   ]
  },
  {
   "cell_type": "markdown",
   "metadata": {},
   "source": [
    "# Previous Season Points"
   ]
  },
  {
   "cell_type": "code",
   "execution_count": 51,
   "metadata": {},
   "outputs": [],
   "source": [
    "LSP = []\n",
    "\n",
    "for i, j in zip(complete_df['Name'], complete_df['Season']):\n",
    "    filt = (Season_Stats['Rider_Name'] == i) & (Season_Stats['Season'] == j-1)\n",
    "    rider_stats = Season_Stats[filt]\n",
    "    LSP.append(rider_stats.Points.item())\n",
    "\n",
    "complete_df['Last_Season_Points'] = LSP "
   ]
  },
  {
   "cell_type": "code",
   "execution_count": 56,
   "metadata": {},
   "outputs": [],
   "source": [
    "Flanders_DF = complete_df"
   ]
  },
  {
   "cell_type": "code",
   "execution_count": 58,
   "metadata": {},
   "outputs": [],
   "source": [
    "Flanders_DF.to_csv(r'C:\\\\Users\\\\User\\\\Documents\\\\DataScience_Projects\\XG_Boost\\Flanders_DF.csv', index = False, header=True)"
   ]
  }
 ],
 "metadata": {
  "kernelspec": {
   "display_name": "Python 3",
   "language": "python",
   "name": "python3"
  },
  "language_info": {
   "codemirror_mode": {
    "name": "ipython",
    "version": 3
   },
   "file_extension": ".py",
   "mimetype": "text/x-python",
   "name": "python",
   "nbconvert_exporter": "python",
   "pygments_lexer": "ipython3",
   "version": "3.8.5"
  }
 },
 "nbformat": 4,
 "nbformat_minor": 4
}
