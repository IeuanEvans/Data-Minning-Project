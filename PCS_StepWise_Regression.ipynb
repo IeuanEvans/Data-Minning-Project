{
 "cells": [
  {
   "cell_type": "markdown",
   "metadata": {},
   "source": [
    "# Linear Regression"
   ]
  },
  {
   "cell_type": "code",
   "execution_count": 1,
   "metadata": {},
   "outputs": [],
   "source": [
    "%matplotlib inline\n",
    "import matplotlib.pyplot as plt\n",
    "from sklearn.linear_model import LinearRegression\n",
    "from sklearn.preprocessing import PolynomialFeatures\n",
    "from sklearn.model_selection import train_test_split\n",
    "from scipy.stats import ttest_ind\n",
    "import numpy as np\n",
    "import pandas as pd\n",
    "import seaborn as sns\n",
    "import statsmodels.api as sm\n",
    "import scipy as sp"
   ]
  },
  {
   "cell_type": "code",
   "execution_count": 39,
   "metadata": {},
   "outputs": [],
   "source": [
    "LeaderBoard = pd.read_csv('LeaderBoard_Data.csv')\n",
    "Season_Stats = pd.read_csv('SeasonStats_Data.csv')\n",
    "Filt = ['Points','Previous_Years_Points','Climbing','General_Classification',\n",
    "        'Time_Trial','Sprinting','One_Day_Races', 'Course_Profile']\n",
    "\n",
    "Features = LeaderBoard[Filt]"
   ]
  },
  {
   "cell_type": "code",
   "execution_count": 40,
   "metadata": {},
   "outputs": [],
   "source": [
    "Flat_filt = (Features['Course_Profile'] < 60)\n",
    "Average_filt = (Features['Course_Profile'] >= 60) & (Features['Course_Profile'] < 110)\n",
    "Hilly_filt = (Features['Course_Profile'] >= 110)\n",
    "\n",
    "Flat_Races = Features[Flat_filt]\n",
    "Average_Races = Features[Average_filt]\n",
    "Hilly_Races = Features[Hilly_filt]"
   ]
  },
  {
   "cell_type": "code",
   "execution_count": 42,
   "metadata": {},
   "outputs": [],
   "source": [
    "Flat_Races.to_csv(r'C:\\\\Users\\\\User\\\\Documents\\\\DataScience_Projects\\Flat_Races.csv', index = False, header=True)\n",
    "Average_Races.to_csv(r'C:\\\\Users\\\\User\\\\Documents\\\\DataScience_Projects\\Average_Races.csv', index = False, header=True)\n",
    "Hilly_Races.to_csv(r'C:\\\\Users\\\\User\\\\Documents\\\\DataScience_Projects\\Hilly_Races.csv', index = False, header=True)"
   ]
  },
  {
   "cell_type": "code",
   "execution_count": 27,
   "metadata": {},
   "outputs": [
    {
     "name": "stdout",
     "output_type": "stream",
     "text": [
      "5.973028025300204\n",
      "3.150953977827969\n",
      "5.169550654166291\n",
      "3.7341430128890227\n",
      "5.028167484303535\n",
      "3.18561170043733\n",
      "3.359443037352462\n"
     ]
    }
   ],
   "source": [
    "for i in Flat_Races:\n",
    "    print(Flat_Races[i].skew())"
   ]
  },
  {
   "cell_type": "code",
   "execution_count": 4,
   "metadata": {},
   "outputs": [
    {
     "data": {
      "text/plain": [
       "<AxesSubplot:>"
      ]
     },
     "execution_count": 4,
     "metadata": {},
     "output_type": "execute_result"
    },
    {
     "data": {
      "image/png": "[encoded data removed]",
      "text/plain": [
       "<Figure size 432x288 with 2 Axes>"
      ]
     },
     "metadata": {
      "needs_background": "light"
     },
     "output_type": "display_data"
    }
   ],
   "source": [
    "corr = Flat_Races.corr()\n",
    "\n",
    "sns.heatmap(corr, xticklabels=corr.columns, yticklabels=corr.columns, cmap='RdBu')"
   ]
  },
  {
   "cell_type": "code",
   "execution_count": 34,
   "metadata": {},
   "outputs": [],
   "source": [
    "# sns.pairplot(Features)"
   ]
  },
  {
   "cell_type": "code",
   "execution_count": 36,
   "metadata": {},
   "outputs": [],
   "source": [
    "X = Flat_Races.drop('Points', axis = 1)\n",
    "Y = Flat_Races['Points']\n",
    "\n",
    "X_train, X_test, y_train, y_test = train_test_split(X, Y, test_size=0.30, random_state=42)\n",
    "\n",
    "# 'add_constant' so that it also fits an intercept\n",
    "X_with_constant = sm.add_constant(X_train)"
   ]
  },
  {
   "cell_type": "code",
   "execution_count": 37,
   "metadata": {},
   "outputs": [
    {
     "name": "stdout",
     "output_type": "stream",
     "text": [
      "                            OLS Regression Results                            \n",
      "==============================================================================\n",
      "Dep. Variable:                 Points   R-squared:                       0.213\n",
      "Model:                            OLS   Adj. R-squared:                  0.213\n",
      "Method:                 Least Squares   F-statistic:                     694.0\n",
      "Date:                Tue, 23 Mar 2021   Prob (F-statistic):               0.00\n",
      "Time:                        12:41:19   Log-Likelihood:                -70576.\n",
      "No. Observations:               15374   AIC:                         1.412e+05\n",
      "Df Residuals:                   15367   BIC:                         1.412e+05\n",
      "Df Model:                           6                                         \n",
      "Covariance Type:            nonrobust                                         \n",
      "==========================================================================================\n",
      "                             coef    std err          t      P>|t|      [0.025      0.975]\n",
      "------------------------------------------------------------------------------------------\n",
      "const                     -0.4991      0.280     -1.783      0.075      -1.048       0.050\n",
      "Previous_Years_Points      0.0203      0.001     26.929      0.000       0.019       0.022\n",
      "Climbing                   0.0004      0.000      0.765      0.444      -0.001       0.001\n",
      "General_Classification    -0.0020      0.000     -4.283      0.000      -0.003      -0.001\n",
      "Time_Trial                 0.0020      0.000      7.209      0.000       0.001       0.003\n",
      "Sprinting                 -0.0001      0.000     -0.774      0.439      -0.000       0.000\n",
      "One_Day_Races              0.0047      0.000     20.866      0.000       0.004       0.005\n",
      "==============================================================================\n",
      "Omnibus:                    15437.452   Durbin-Watson:                   0.862\n",
      "Prob(Omnibus):                  0.000   Jarque-Bera (JB):          1005011.927\n",
      "Skew:                           4.949   Prob(JB):                         0.00\n",
      "Kurtosis:                      41.353   Cond. No.                     5.09e+03\n",
      "==============================================================================\n",
      "\n",
      "Notes:\n",
      "[1] Standard Errors assume that the covariance matrix of the errors is correctly specified.\n",
      "[2] The condition number is large, 5.09e+03. This might indicate that there are\n",
      "strong multicollinearity or other numerical problems.\n"
     ]
    }
   ],
   "source": [
    "X_with_constant = sm.add_constant(X)\n",
    "def get_stats():\n",
    "    results = sm.OLS(Y, X_with_constant).fit()\n",
    "    print(results.summary())\n",
    "get_stats()"
   ]
  },
  {
   "cell_type": "code",
   "execution_count": 29,
   "metadata": {},
   "outputs": [
    {
     "name": "stdout",
     "output_type": "stream",
     "text": [
      "                            OLS Regression Results                            \n",
      "==============================================================================\n",
      "Dep. Variable:                 Points   R-squared:                       0.213\n",
      "Model:                            OLS   Adj. R-squared:                  0.213\n",
      "Method:                 Least Squares   F-statistic:                     832.7\n",
      "Date:                Tue, 23 Mar 2021   Prob (F-statistic):               0.00\n",
      "Time:                        12:35:47   Log-Likelihood:                -70576.\n",
      "No. Observations:               15374   AIC:                         1.412e+05\n",
      "Df Residuals:                   15368   BIC:                         1.412e+05\n",
      "Df Model:                           5                                         \n",
      "Covariance Type:            nonrobust                                         \n",
      "==========================================================================================\n",
      "                             coef    std err          t      P>|t|      [0.025      0.975]\n",
      "------------------------------------------------------------------------------------------\n",
      "const                     -0.5587      0.269     -2.079      0.038      -1.086      -0.032\n",
      "Previous_Years_Points      0.0204      0.001     27.395      0.000       0.019       0.022\n",
      "General_Classification    -0.0017      0.000     -6.741      0.000      -0.002      -0.001\n",
      "Time_Trial                 0.0019      0.000      7.622      0.000       0.001       0.002\n",
      "Sprinting                 -0.0002      0.000     -1.099      0.272      -0.000       0.000\n",
      "One_Day_Races              0.0047      0.000     22.037      0.000       0.004       0.005\n",
      "==============================================================================\n",
      "Omnibus:                    15438.895   Durbin-Watson:                   0.861\n",
      "Prob(Omnibus):                  0.000   Jarque-Bera (JB):          1005169.841\n",
      "Skew:                           4.950   Prob(JB):                         0.00\n",
      "Kurtosis:                      41.355   Cond. No.                     4.81e+03\n",
      "==============================================================================\n",
      "\n",
      "Notes:\n",
      "[1] Standard Errors assume that the covariance matrix of the errors is correctly specified.\n",
      "[2] The condition number is large, 4.81e+03. This might indicate that there are\n",
      "strong multicollinearity or other numerical problems.\n"
     ]
    }
   ],
   "source": [
    "del X_with_constant[\"Climbing\"]\n",
    "get_stats()"
   ]
  },
  {
   "cell_type": "code",
   "execution_count": 30,
   "metadata": {},
   "outputs": [
    {
     "name": "stdout",
     "output_type": "stream",
     "text": [
      "                            OLS Regression Results                            \n",
      "==============================================================================\n",
      "Dep. Variable:                 Points   R-squared:                       0.213\n",
      "Model:                            OLS   Adj. R-squared:                  0.213\n",
      "Method:                 Least Squares   F-statistic:                     1041.\n",
      "Date:                Tue, 23 Mar 2021   Prob (F-statistic):               0.00\n",
      "Time:                        12:35:49   Log-Likelihood:                -70577.\n",
      "No. Observations:               15374   AIC:                         1.412e+05\n",
      "Df Residuals:                   15369   BIC:                         1.412e+05\n",
      "Df Model:                           4                                         \n",
      "Covariance Type:            nonrobust                                         \n",
      "==========================================================================================\n",
      "                             coef    std err          t      P>|t|      [0.025      0.975]\n",
      "------------------------------------------------------------------------------------------\n",
      "const                     -0.6242      0.262     -2.381      0.017      -1.138      -0.110\n",
      "Previous_Years_Points      0.0202      0.001     27.554      0.000       0.019       0.022\n",
      "General_Classification    -0.0016      0.000     -6.667      0.000      -0.002      -0.001\n",
      "Time_Trial                 0.0019      0.000      7.605      0.000       0.001       0.002\n",
      "One_Day_Races              0.0045      0.000     29.618      0.000       0.004       0.005\n",
      "==============================================================================\n",
      "Omnibus:                    15448.402   Durbin-Watson:                   0.862\n",
      "Prob(Omnibus):                  0.000   Jarque-Bera (JB):          1006856.021\n",
      "Skew:                           4.955   Prob(JB):                         0.00\n",
      "Kurtosis:                      41.387   Cond. No.                     3.26e+03\n",
      "==============================================================================\n",
      "\n",
      "Notes:\n",
      "[1] Standard Errors assume that the covariance matrix of the errors is correctly specified.\n",
      "[2] The condition number is large, 3.26e+03. This might indicate that there are\n",
      "strong multicollinearity or other numerical problems.\n"
     ]
    }
   ],
   "source": [
    "del X_with_constant[\"Sprinting\"]\n",
    "get_stats()"
   ]
  }
 ],
 "metadata": {
  "kernelspec": {
   "display_name": "Python 3",
   "language": "python",
   "name": "python3"
  },
  "language_info": {
   "codemirror_mode": {
    "name": "ipython",
    "version": 3
   },
   "file_extension": ".py",
   "mimetype": "text/x-python",
   "name": "python",
   "nbconvert_exporter": "python",
   "pygments_lexer": "ipython3",
   "version": "3.8.5"
  }
 },
 "nbformat": 4,
 "nbformat_minor": 4
}
